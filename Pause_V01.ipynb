{
  "nbformat": 4,
  "nbformat_minor": 0,
  "metadata": {
    "colab": {
      "provenance": [],
      "include_colab_link": true
    },
    "kernelspec": {
      "name": "python3",
      "display_name": "Python 3"
    },
    "language_info": {
      "name": "python"
    }
  },
  "cells": [
    {
      "cell_type": "markdown",
      "metadata": {
        "id": "view-in-github",
        "colab_type": "text"
      },
      "source": [
        "<a href=\"https://colab.research.google.com/github/SimonLico/pause/blob/main/Pause_V01.ipynb\" target=\"_parent\"><img src=\"https://colab.research.google.com/assets/colab-badge.svg\" alt=\"Open In Colab\"/></a>"
      ]
    },
    {
      "cell_type": "code",
      "execution_count": null,
      "metadata": {
        "id": "bdjkuBwcoG1x",
        "colab": {
          "base_uri": "https://localhost:8080/"
        },
        "outputId": "e2cba3b5-b551-4adc-aa0a-471380e57f4e"
      },
      "outputs": [
        {
          "output_type": "stream",
          "name": "stdout",
          "text": [
            "Collecting openai-whisper\n",
            "  Downloading openai-whisper-20230314.tar.gz (792 kB)\n",
            "\u001b[2K     \u001b[90m━━━━━━━━━━━━━━━━━━━━━━━━━━━━━━━━━━━━━━━\u001b[0m \u001b[32m792.9/792.9 kB\u001b[0m \u001b[31m5.4 MB/s\u001b[0m eta \u001b[36m0:00:00\u001b[0m\n",
            "\u001b[?25h  Installing build dependencies ... \u001b[?25l\u001b[?25hdone\n",
            "  Getting requirements to build wheel ... \u001b[?25l\u001b[?25hdone\n",
            "  Preparing metadata (pyproject.toml) ... \u001b[?25l\u001b[?25hdone\n",
            "Requirement already satisfied: triton==2.0.0 in /usr/local/lib/python3.10/dist-packages (from openai-whisper) (2.0.0)\n",
            "Requirement already satisfied: numba in /usr/local/lib/python3.10/dist-packages (from openai-whisper) (0.56.4)\n",
            "Requirement already satisfied: numpy in /usr/local/lib/python3.10/dist-packages (from openai-whisper) (1.22.4)\n",
            "Requirement already satisfied: torch in /usr/local/lib/python3.10/dist-packages (from openai-whisper) (2.0.1+cu118)\n",
            "Requirement already satisfied: tqdm in /usr/local/lib/python3.10/dist-packages (from openai-whisper) (4.65.0)\n",
            "Requirement already satisfied: more-itertools in /usr/local/lib/python3.10/dist-packages (from openai-whisper) (9.1.0)\n",
            "Collecting tiktoken==0.3.1 (from openai-whisper)\n",
            "  Downloading tiktoken-0.3.1-cp310-cp310-manylinux_2_17_x86_64.manylinux2014_x86_64.whl (1.7 MB)\n",
            "\u001b[2K     \u001b[90m━━━━━━━━━━━━━━━━━━━━━━━━━━━━━━━━━━━━━━━━\u001b[0m \u001b[32m1.7/1.7 MB\u001b[0m \u001b[31m28.3 MB/s\u001b[0m eta \u001b[36m0:00:00\u001b[0m\n",
            "\u001b[?25hCollecting ffmpeg-python==0.2.0 (from openai-whisper)\n",
            "  Downloading ffmpeg_python-0.2.0-py3-none-any.whl (25 kB)\n",
            "Requirement already satisfied: future in /usr/local/lib/python3.10/dist-packages (from ffmpeg-python==0.2.0->openai-whisper) (0.18.3)\n",
            "Requirement already satisfied: regex>=2022.1.18 in /usr/local/lib/python3.10/dist-packages (from tiktoken==0.3.1->openai-whisper) (2022.10.31)\n",
            "Requirement already satisfied: requests>=2.26.0 in /usr/local/lib/python3.10/dist-packages (from tiktoken==0.3.1->openai-whisper) (2.27.1)\n",
            "Requirement already satisfied: cmake in /usr/local/lib/python3.10/dist-packages (from triton==2.0.0->openai-whisper) (3.25.2)\n",
            "Requirement already satisfied: filelock in /usr/local/lib/python3.10/dist-packages (from triton==2.0.0->openai-whisper) (3.12.2)\n",
            "Requirement already satisfied: lit in /usr/local/lib/python3.10/dist-packages (from triton==2.0.0->openai-whisper) (16.0.6)\n",
            "Requirement already satisfied: llvmlite<0.40,>=0.39.0dev0 in /usr/local/lib/python3.10/dist-packages (from numba->openai-whisper) (0.39.1)\n",
            "Requirement already satisfied: setuptools in /usr/local/lib/python3.10/dist-packages (from numba->openai-whisper) (67.7.2)\n",
            "Requirement already satisfied: typing-extensions in /usr/local/lib/python3.10/dist-packages (from torch->openai-whisper) (4.7.1)\n",
            "Requirement already satisfied: sympy in /usr/local/lib/python3.10/dist-packages (from torch->openai-whisper) (1.11.1)\n",
            "Requirement already satisfied: networkx in /usr/local/lib/python3.10/dist-packages (from torch->openai-whisper) (3.1)\n",
            "Requirement already satisfied: jinja2 in /usr/local/lib/python3.10/dist-packages (from torch->openai-whisper) (3.1.2)\n",
            "Requirement already satisfied: urllib3<1.27,>=1.21.1 in /usr/local/lib/python3.10/dist-packages (from requests>=2.26.0->tiktoken==0.3.1->openai-whisper) (1.26.16)\n",
            "Requirement already satisfied: certifi>=2017.4.17 in /usr/local/lib/python3.10/dist-packages (from requests>=2.26.0->tiktoken==0.3.1->openai-whisper) (2023.5.7)\n",
            "Requirement already satisfied: charset-normalizer~=2.0.0 in /usr/local/lib/python3.10/dist-packages (from requests>=2.26.0->tiktoken==0.3.1->openai-whisper) (2.0.12)\n",
            "Requirement already satisfied: idna<4,>=2.5 in /usr/local/lib/python3.10/dist-packages (from requests>=2.26.0->tiktoken==0.3.1->openai-whisper) (3.4)\n",
            "Requirement already satisfied: MarkupSafe>=2.0 in /usr/local/lib/python3.10/dist-packages (from jinja2->torch->openai-whisper) (2.1.3)\n",
            "Requirement already satisfied: mpmath>=0.19 in /usr/local/lib/python3.10/dist-packages (from sympy->torch->openai-whisper) (1.3.0)\n",
            "Building wheels for collected packages: openai-whisper\n",
            "  Building wheel for openai-whisper (pyproject.toml) ... \u001b[?25l\u001b[?25hdone\n",
            "  Created wheel for openai-whisper: filename=openai_whisper-20230314-py3-none-any.whl size=796908 sha256=7853a85b723b8f55f348333241b1d0155a76664f3f9509886ecc5ae4e4a07391\n",
            "  Stored in directory: /root/.cache/pip/wheels/b2/13/5f/fe8245f6dc59df505879da4b2129932e342f02a80e6b87f27d\n",
            "Successfully built openai-whisper\n",
            "Installing collected packages: ffmpeg-python, tiktoken, openai-whisper\n",
            "Successfully installed ffmpeg-python-0.2.0 openai-whisper-20230314 tiktoken-0.3.1\n"
          ]
        }
      ],
      "source": [
        "pip install -U openai-whisper"
      ]
    },
    {
      "cell_type": "code",
      "source": [
        "print(\"foo\")"
      ],
      "metadata": {
        "id": "9t7U73jT0L91",
        "outputId": "426240f3-f036-4c47-b628-8e4277bd0266",
        "colab": {
          "base_uri": "https://localhost:8080/"
        }
      },
      "execution_count": null,
      "outputs": [
        {
          "output_type": "stream",
          "name": "stdout",
          "text": [
            "foo\n"
          ]
        }
      ]
    },
    {
      "cell_type": "code",
      "source": [
        "from google.colab import drive\n",
        "drive.mount('/content/drive')"
      ],
      "metadata": {
        "id": "74tpP_QFrFwJ",
        "outputId": "4fabdd53-138f-4e26-fbc5-ec350b68f79d",
        "colab": {
          "base_uri": "https://localhost:8080/"
        }
      },
      "execution_count": null,
      "outputs": [
        {
          "output_type": "stream",
          "name": "stdout",
          "text": [
            "Mounted at /content/drive\n"
          ]
        }
      ]
    },
    {
      "cell_type": "code",
      "source": [
        "import whisper\n",
        "\n",
        "model = whisper.load_model(\"base\")\n",
        "result = model.transcribe(\"/content/sunscreen.m4a\")\n",
        "print(result[\"text\"])"
      ],
      "metadata": {
        "id": "vNuAjgkDwao7",
        "colab": {
          "base_uri": "https://localhost:8080/"
        },
        "outputId": "9bac8828-20e1-4d9f-b8b3-98a5747dac14"
      },
      "execution_count": null,
      "outputs": [
        {
          "output_type": "stream",
          "name": "stderr",
          "text": [
            "100%|████████████████████████████████████████| 139M/139M [00:00<00:00, 260MiB/s]\n",
            "/usr/local/lib/python3.10/dist-packages/whisper/transcribe.py:114: UserWarning: FP16 is not supported on CPU; using FP32 instead\n",
            "  warnings.warn(\"FP16 is not supported on CPU; using FP32 instead\")\n"
          ]
        },
        {
          "output_type": "stream",
          "name": "stdout",
          "text": [
            " Ladies and gentlemen of the Class of 99, where sunscreen? If I could offer you only one tip for the future, sunscreen would be it. A long-term benefits of sunscreen have been proved by scientists, or as the rest of my advice has no basis more reliable than my own meandering experience. I will dispense this advice now. Enjoy the power and beauty of your youth. Never mind. You will not understand the power and beauty of your youth until they've faded. Trust me. In 20 years, you look back at photos of yourself, and the call in a way you can't grasp now how much possibility laid before you and how fabulous you really looked. You are not as fat as you imagine. Don't worry about the future, or worry, but know that worrying is as effective as trying to solve an algebra equation by chewing bubblegum. The real troubles in your life are apt to be things that never crossed your word mind, kind that blindsides you at 4 p.m. on some idle Tuesday. Do one thing every day that scares you. Sing. Don't be reckless with other people's hearts. Don't put up with people who are reckless with yours. Floss. Don't waste your time on jealousy. Sometimes you're ahead. Sometimes you're behind. The race is long, and in the end, you're telling me with yourself. Remember compliments you received. Forget the insults. If you succeed in doing this, tell me how. Keep your old love letters. Throw away your old bank statements. Stretch. Don't feel guilty if you don't know what you want to do with your body. The most interesting people I know didn't know at 22, but they wanted to do with their lives. Some of the most interesting 40-year-olds I know still don't. That plenty of calcium. Be kind to your needs. You'll miss them when you're gone. Maybe you'll marry. Maybe you won't. Maybe you'll have children. Maybe you won't. Maybe you'll divorce at 40. Maybe you'll dance the funky chicken on your 75th wedding anniversary. Whatever you do, don't congratulate yourself too much or berate yourself either. Your choices are half-chance. So are everybody else's. Enjoy your body. Use it every way you can. Don't be afraid of it or what other people think of it. It's the greatest instrument you'll ever own. Dance. Even if you have nowhere to do it but in your own living room. Read the directions. Even if you don't follow them. Do not read beauty magazines. They will only make you feel ugly. Get to know your parents. You never know when they'll be gone for good. Be nice to your siblings. Bear your best late to your past and the people most likely to stick with you in the future. Understand that friends come and go but with a precious few they should hold on. Work hard to bridge the gaps in geography and lifestyle. Because the older you get, the more you need the people you knew when you're young. Live in New York City once but leave before it makes you hard. Live in Northern California once but leave before it makes you soft. Travel. Accept certain, inalienable truths. Prices will rise. Politicians will fall after. You too will get old. And when you do, you'll fantasize that when you were young. Prices were reasonable. Prices were noble and children respected their elders. Respect your elders. Don't expect anyone else to support you. Maybe you have a trust fund. Maybe you'll have a wealthy spouse. But you never know when either one might run out. Don't mess too much with your hair or by the time you're 40 it will look 85. Be careful whose advice you buy. But be patient with those who supply. Advice. The form of nostalgia. Spensing it is a way of fishing with past from the disposal, wiping it off. Painting over the ugly parts and recycling it for more than its worth. But trust me on the sunscreen. Thanks for watching.\n"
          ]
        }
      ]
    },
    {
      "cell_type": "markdown",
      "source": [
        " Ladies and gentlemen of the Class of 99, where sunscreen? If I could offer you only one tip for the future, sunscreen would be it. A long-term benefits of sunscreen have been proved by scientists, or as the rest of my advice has no basis more reliable than my own meandering experience. I will dispense this advice now. Enjoy the power and beauty of your youth. Never mind. You will not understand the power and beauty of your youth until they've faded. Trust me. In 20 years, you look back at photos of yourself, and the call in a way you can't grasp now how much possibility laid before you and how fabulous you really looked. You are not as fat as you imagine. Don't worry about the future, or worry, but know that worrying is as effective as trying to solve an algebra equation by chewing bubblegum. The real troubles in your life are apt to be things that never crossed your word mind, kind that blindsides you at 4 p.m. on some idle Tuesday. Do one thing every day that scares you. Sing. Don't be reckless with other people's hearts. Don't put up with people who are reckless with yours. Floss. Don't waste your time on jealousy. Sometimes you're ahead. Sometimes you're behind. The race is long, and in the end, you're telling me with yourself. Remember compliments you received. Forget the insults. If you succeed in doing this, tell me how. Keep your old love letters. Throw away your old bank statements. Stretch. Don't feel guilty if you don't know what you want to do with your body. The most interesting people I know didn't know at 22, but they wanted to do with their lives. Some of the most interesting 40-year-olds I know still don't. That plenty of calcium. Be kind to your needs. You'll miss them when you're gone. Maybe you'll marry. Maybe you won't. Maybe you'll have children. Maybe you won't. Maybe you'll divorce at 40. Maybe you'll dance the funky chicken on your 75th wedding anniversary. Whatever you do, don't congratulate yourself too much or berate yourself either. Your choices are half-chance. So are everybody else's. Enjoy your body. Use it every way you can. Don't be afraid of it or what other people think of it. It's the greatest instrument you'll ever own. Dance. Even if you have nowhere to do it but in your own living room. Read the directions. Even if you don't follow them. Do not read beauty magazines. They will only make you feel ugly. Get to know your parents. You never know when they'll be gone for good. Be nice to your siblings. Bear your best late to your past and the people most likely to stick with you in the future. Understand that friends come and go but with a precious few they should hold on. Work hard to bridge the gaps in geography and lifestyle. Because the older you get, the more you need the people you knew when you're young. Live in New York City once but leave before it makes you hard. Live in Northern California once but leave before it makes you soft. Travel. Accept certain, inalienable truths. Prices will rise. Politicians will fall after. You too will get old. And when you do, you'll fantasize that when you were young. Prices were reasonable. Prices were noble and children respected their elders. Respect your elders. Don't expect anyone else to support you. Maybe you have a trust fund. Maybe you'll have a wealthy spouse. But you never know when either one might run out. Don't mess too much with your hair or by the time you're 40 it will look 85. Be careful whose advice you buy. But be patient with those who supply. Advice. The form of nostalgia. Spensing it is a way of fishing with past from the disposal, wiping it off. Painting over the ugly parts and recycling it for more than its worth. But trust me on the sunscreen. Thanks for watching.\n"
      ],
      "metadata": {
        "id": "IowBNj8WycR3"
      }
    }
  ]
}